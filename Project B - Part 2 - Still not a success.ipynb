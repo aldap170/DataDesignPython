{
 "cells": [
  {
   "cell_type": "markdown",
   "metadata": {},
   "source": [
    "# Project B \n",
    "### Take 2\n",
    "\n",
    "Lets take it from the top since I failed myserably the first time. Sorry Jacob. "
   ]
  },
  {
   "cell_type": "code",
   "execution_count": 4,
   "metadata": {
    "collapsed": true
   },
   "outputs": [],
   "source": [
    "import requests\n",
    "k = requests.get('https://www.nytimes.com/2018/02/01/books/review/11-new-books-we-recommend-this-week.html')\n",
    "import re "
   ]
  },
  {
   "cell_type": "code",
   "execution_count": 5,
   "metadata": {},
   "outputs": [
    {
     "name": "stdout",
     "output_type": "stream",
     "text": [
      "<!DOCTYPE html>\n",
      "<!--[if (gt IE 9)|!(IE)]> <!--> <html lang=\"en\" class=\"no-js section-review format-medium tone-feature app-article page-theme-standard has-top-ad type-size-small has-large-lede\" itemid=\"https://www.nytimes.com/2018/02/01/books/review/11-new-books-we-recommend-this-week.html\" itemtype=\"http://schema.org/NewsArticle\"  itemscope xmlns:og=\"http://opengraphprotocol.org/schema/\"> <!--<![endif]-->\n",
      "<!--[if IE 9]> <html lang=\"en\" class=\"no-js ie9 lt-ie10 section-review format-medium tone-feature app-article page-theme-standard has-top-ad type-size-small has-large-lede\" xmlns:og=\"http://opengraphprotocol.org/schema/\"> <![endif]-->\n",
      "<!--[if IE 8]> <html lang=\"en\" class=\"no-js ie8 lt-ie10 lt-ie9 section-review format-medium tone-feature app-article page-theme-standard has-top-ad type-size-small has-large-lede\" xmlns:og=\"http://opengraphprotocol.org/schema/\"> <![endif]-->\n",
      "<!--[if (lt IE 8)]> <html lang=\"en\" class=\"no-js lt-ie10 lt-ie9 lt-ie8 section-review format-medium tone-feature \n"
     ]
    }
   ],
   "source": [
    "print(k.text[:1000])"
   ]
  },
  {
   "cell_type": "code",
   "execution_count": 6,
   "metadata": {
    "collapsed": true
   },
   "outputs": [],
   "source": [
    "from bs4 import BeautifulSoup\n",
    "soup = BeautifulSoup(k.text, 'html.parser')"
   ]
  },
  {
   "cell_type": "code",
   "execution_count": 7,
   "metadata": {
    "collapsed": true
   },
   "outputs": [],
   "source": [
    "books = soup.findAll('a', attrs={'href': re.compile(\"^http://\")})"
   ]
  },
  {
   "cell_type": "code",
   "execution_count": 13,
   "metadata": {},
   "outputs": [
    {
     "data": {
      "text/plain": [
       "11"
      ]
     },
     "execution_count": 13,
     "metadata": {},
     "output_type": "execute_result"
    }
   ],
   "source": [
    "len(books)"
   ]
  },
  {
   "cell_type": "code",
   "execution_count": 8,
   "metadata": {},
   "outputs": [
    {
     "name": "stdout",
     "output_type": "stream",
     "text": [
      "[<a class=\"action-link\" href=\"http://www.nytimes.com/content/help/site/ie9-support.html\">LEARN MORE »</a>, <a class=\"button skip-button skip-to-mobile visually-hidden focusable\" href=\"http://mobile.nytimes.com/2018/02/01/books/review/11-new-books-we-recommend-this-week.html\">View mobile version</a>, <a href=\"http://www.nytreprints.com/\" target=\"_blank\">Order Reprints</a>, <a href=\"http://www.nytimes.com/pages/todayspaper/index.html\" target=\"_blank\">Today's Paper</a>, <a href=\"http://www.nytimes.com/subscriptions/Multiproduct/lp839RF.html?campaignId=48JQY\" target=\"_blank\">Subscribe</a>, <a href=\"http://www.nytco.com\">NYTCo</a>, <a href=\"http://eedition.nytimes.com/cgi-bin/signup.cgi?cc=37FYY\">Replica Edition</a>, <a href=\"http://query.nytimes.com/search/sitesearch/#/\">Search</a>, <a href=\"http://www.nytco.com/careers\">Work With Us</a>, <a href=\"http://nytmediakit.com/\">Advertise</a>, <a href=\"http://spiderbites.nytimes.com\">Site Map</a>]\n"
     ]
    }
   ],
   "source": [
    "print(books)"
   ]
  },
  {
   "cell_type": "markdown",
   "metadata": {},
   "source": [
    "Ok. I don't think this is much progress because I still haven't gotten my books but I got links so I *think* that is a slight improvement"
   ]
  },
  {
   "cell_type": "code",
   "execution_count": 9,
   "metadata": {
    "collapsed": true
   },
   "outputs": [],
   "source": [
    "bookstwo = soup.findAll('p', attrs={'href': re.compile(\"^http://\")})"
   ]
  },
  {
   "cell_type": "code",
   "execution_count": 12,
   "metadata": {},
   "outputs": [
    {
     "data": {
      "text/plain": [
       "0"
      ]
     },
     "execution_count": 12,
     "metadata": {},
     "output_type": "execute_result"
    }
   ],
   "source": [
    "len(bookstwo)"
   ]
  },
  {
   "cell_type": "markdown",
   "metadata": {},
   "source": [
    "##### I will go back to looking at books because after doing the len () function I realized that I **do** have the right number. So I will try to do a chart"
   ]
  },
  {
   "cell_type": "code",
   "execution_count": 15,
   "metadata": {},
   "outputs": [],
   "source": [
    "table = []\n",
    "for i in books:\n",
    "    book = i.text\n",
    "    table.append(book)"
   ]
  },
  {
   "cell_type": "code",
   "execution_count": 16,
   "metadata": {},
   "outputs": [
    {
     "data": {
      "text/plain": [
       "8"
      ]
     },
     "execution_count": 16,
     "metadata": {},
     "output_type": "execute_result"
    }
   ],
   "source": [
    "len(book)"
   ]
  },
  {
   "cell_type": "markdown",
   "metadata": {},
   "source": [
    "** How the eff do I have 8 **"
   ]
  },
  {
   "cell_type": "code",
   "execution_count": 17,
   "metadata": {},
   "outputs": [
    {
     "data": {
      "text/plain": [
       "['LEARN MORE »',\n",
       " 'View mobile version',\n",
       " 'Order Reprints',\n",
       " \"Today's Paper\",\n",
       " 'Subscribe']"
      ]
     },
     "execution_count": 17,
     "metadata": {},
     "output_type": "execute_result"
    }
   ],
   "source": [
    "table[:5]"
   ]
  },
  {
   "cell_type": "markdown",
   "metadata": {},
   "source": [
    "Oh. Its because it was 11 links but not the links I wanted. Ugh. How do I fix this?"
   ]
  },
  {
   "cell_type": "code",
   "execution_count": null,
   "metadata": {
    "collapsed": true
   },
   "outputs": [],
   "source": []
  }
 ],
 "metadata": {
  "kernelspec": {
   "display_name": "Python 3",
   "language": "python",
   "name": "python3"
  },
  "language_info": {
   "codemirror_mode": {
    "name": "ipython",
    "version": 3
   },
   "file_extension": ".py",
   "mimetype": "text/x-python",
   "name": "python",
   "nbconvert_exporter": "python",
   "pygments_lexer": "ipython3",
   "version": "3.6.3"
  }
 },
 "nbformat": 4,
 "nbformat_minor": 2
}
