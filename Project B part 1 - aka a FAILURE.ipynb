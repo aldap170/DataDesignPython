{
 "cells": [
  {
   "cell_type": "markdown",
   "metadata": {},
   "source": [
    "# Project B\n",
    "\n",
    "Based on intro to webscaping, I will use The New York Time's opinion piece by David Leonheardt and Ian Prasad Philbrick, Donald Trump's Racism: The Definitive Piece. I will try to get the list of actions/words they list. "
   ]
  },
  {
   "cell_type": "code",
   "execution_count": 12,
   "metadata": {
    "collapsed": true
   },
   "outputs": [],
   "source": [
    "import requests\n",
    "k = requests.get('https://www.nytimes.com/interactive/2018/01/15/opinion/leonhardt-trump-racist.html')"
   ]
  },
  {
   "cell_type": "code",
   "execution_count": 13,
   "metadata": {},
   "outputs": [
    {
     "name": "stdout",
     "output_type": "stream",
     "text": [
      "<!DOCTYPE html>\n",
      "<!--[if (gt IE 9)|!(IE)]> <!--><html lang=\"en\" class=\"no-js page-interactive section-opinion page-theme-standard tone-opinion has-comments page-interactive-default limit-small layout-xlarge app-interactive\" itemid=\"https://www.nytimes.com/interactive/2018/01/15/opinion/leonhardt-trump-racist.html\" itemtype=\"http://schema.org/NewsArticle\" itemscope xmlns:og=\"http://opengraphprotocol\n"
     ]
    }
   ],
   "source": [
    "print(k.text[:400])"
   ]
  },
  {
   "cell_type": "code",
   "execution_count": 14,
   "metadata": {
    "collapsed": true
   },
   "outputs": [],
   "source": [
    "from bs4 import BeautifulSoup\n",
    "soup = BeautifulSoup(k.text, 'html.parser')"
   ]
  },
  {
   "cell_type": "code",
   "execution_count": 30,
   "metadata": {
    "collapsed": true
   },
   "outputs": [],
   "source": [
    "facts = soup.find_all('p')"
   ]
  },
  {
   "cell_type": "markdown",
   "metadata": {},
   "source": [
    "There **should** be 31. "
   ]
  },
  {
   "cell_type": "code",
   "execution_count": 31,
   "metadata": {},
   "outputs": [
    {
     "data": {
      "text/plain": [
       "44"
      ]
     },
     "execution_count": 31,
     "metadata": {},
     "output_type": "execute_result"
    }
   ],
   "source": [
    "len(facts)"
   ]
  },
  {
   "cell_type": "markdown",
   "metadata": {},
   "source": [
    "My output says there are 44, not 31. I will look at what it spit out, and see if there is a way to further separate the facts from the rest of the code. "
   ]
  },
  {
   "cell_type": "code",
   "execution_count": 20,
   "metadata": {},
   "outputs": [
    {
     "data": {
      "text/plain": [
       "[<p class=\"byline-dateline\">\n",
       " <span class=\"byline\" itemid=\"http://www.nytimes.com/by/david-leonhardt\" itemprop=\"author creator\" itemscope=\"\" itemtype=\"http://schema.org/Person\">\n",
       "       By <a href=\"http://www.nytimes.com/by/david-leonhardt\" title=\"More Articles by David Leonhardt\"><span class=\"byline-author\" data-byline-name=\"DAVID LEONHARDT\" itemprop=\"name\">DAVID LEONHARDT</span></a> and \n",
       "     </span><span class=\"byline last-byline\" itemprop=\"author creator\" itemscope=\"\" itemtype=\"http://schema.org/Person\">\n",
       " <span class=\"byline-author\" data-byline-name=\"IAN PRASAD PHILBRICK\" itemprop=\"name\">IAN PRASAD PHILBRICK</span>\n",
       " </span>\n",
       " <time class=\"dateline\" content=\"2018-01-15\" datetime=\"2018-01-15\" itemprop=\"dateModified\">JAN. 15, 2018</time>\n",
       " </p>, <p class=\"interactive-leadin summary\">\n",
       " </p>, <p class=\"g-body\">Donald Trump has been obsessed with race for the entire time he has been a public figure. He had a history of making racist comments as a New York real-estate developer in the 1970s and ‘80s. More recently, his political rise was built on promulgating the lie that the nation’s first black president was born in Kenya. He then launched his campaign with a speech describing Mexicans as rapists.</p>, <p class=\"g-body\">The media often falls back on euphemisms when describing Trump’s comments about race: racially loaded, racially charged, racially tinged, racially sensitive. And Trump himself has claimed that he is “<a href=\"https://www.nytimes.com/2018/01/14/us/politics/trump-im-not-a-racist.html?hp&amp;action=click&amp;pgtype=Homepage&amp;clickSource=story-heading&amp;module=first-column-region®ion=top-news&amp;WT.nav=top-news\">the least racist person</a>.” But here’s the truth: Donald Trump is a racist. He talks about and treats people differently based on their race. He has done so for years, and he is still doing so.</p>, <p class=\"g-body\">Here, we have attempted to compile a definitive list of his racist comments – or at least the publicly known ones.</p>, <p class=\"g-body\">Trump’s real-estate company tried <strong>to avoid renting apartments to African-Americans</strong> in the 1970s and gave <a href=\"https://www.nytimes.com/2016/07/24/opinion/sunday/is-donald-trump-a-racist.html\">preferential treatment to whites</a>, according to the federal government.</p>, <p class=\"g-body\">Trump treated black employees at his casinos differently from whites, according to multiple sources. A former hotel executive said Trump criticized a black accountant: “Black guys counting my money! I hate it. … I think that the guy is lazy. And it’s probably not his fault, because <strong>laziness is a trait in blacks</strong>.”</p>, <p class=\"g-body\">In 1989, Trump took out ads in New York newspapers urging the <strong>death penalty for five black and Latino teenagers</strong> accused of raping a white woman in Central Park; he <a href=\"https://www.nytimes.com/2016/10/18/opinion/why-trump-doubled-down-on-the-central-park-five.html\">argued they were guilty</a> as late as October 2016, more than 10 years after DNA evidence had exonerated them.</p>, <p class=\"g-body\">In 1989, on NBC, Trump said: “I think sometimes a black may think they don’t have an advantage or this and that. I’ve said on one occasion, even about myself, if I were starting off today, <strong>I would love to be a well-educated black</strong>, because I really believe they do have an actual advantage.”</p>, <p class=\"g-body\">He began his 2016 presidential campaign with a speech <a href=\"https://www.nytimes.com/politics/first-draft/2015/06/16/choice-words-from-donald-trump-presidential-candidate/\">disparaging </a><strong><a href=\"https://www.nytimes.com/politics/first-draft/2015/06/16/choice-words-from-donald-trump-presidential-candidate/\">Mexican immigrants as criminals and “rapists.”</a></strong></p>, <p class=\"g-body\">He uses the gang MS-13 to <strong>disparage all immigrants</strong>. Among many other statements, he has suggested that Obama’s protection of the Dreamers — otherwise law-abiding immigrants who were brought to the United States illegally as children — contributed to the spread of MS-13.</p>, <p class=\"g-body\">In December 2015, Trump <a href=\"http://time.com/4139476/donald-trump-shutdown-muslim-immigration/\">called for</a> a “a total and <strong>complete shutdown of Muslims entering the United States</strong>,” including refusing to readmit Muslim-American citizens who were outside of the country at the time.</p>, <p class=\"g-body\">Trump said a federal judge hearing a case about Trump University was biased <a href=\"http://www.politifact.com/wisconsin/article/2016/jun/08/donald-trumps-racial-comments-about-judge-trump-un/\">because of </a><strong><a href=\"http://www.politifact.com/wisconsin/article/2016/jun/08/donald-trumps-racial-comments-about-judge-trump-un/\">the judge’s Mexican heritage</a></strong>.</p>, <p class=\"g-body\">In June 2017, Trump said 15,000 recent <strong>immigrants from Haiti “all have AIDS”</strong> and that 40,000 Nigerians, once seeing the United States, would never “<a href=\"https://www.nytimes.com/2017/12/23/us/politics/trump-immigration.html\">go back to their huts</a>” in Africa.</p>, <p class=\"g-body\">At the White House on Jan. 11, Trump <a href=\"https://www.washingtonpost.com/politics/trump-attacks-protections-for-immigrants-from-shithole-countries-in-oval-office-meeting/2018/01/11/bfc0725c-f711-11e7-91af-31ac729add94_story.html?hpid=hp_rhp-top-table-main_trumpmeeting-445pm%3Ahomepage%2Fstory&amp;utm_term=.e55b028dcfb0\">vulgarly called for</a> <strong>less immigration from Haiti</strong> and Africa and more from Norway.</p>, <p dir=\"ltr\" lang=\"en\">An 'extremely credible source' has called my office and told me that <a href=\"https://twitter.com/BarackObama?ref_src=twsrc%5Etfw\">@BarackObama</a>'s birth certificate is a fraud.</p>, <p class=\"g-body\">He spent years suggesting that the nation’s first black president was born <strong>not in the United States but in Kenya</strong>, a lie that Trump still has not acknowledged as such.</p>, <p class=\"g-body\">Trump called Obama (who was editor in chief of the Harvard Law Review) “<strong>a terrible student, terrible.</strong>”</p>, <p dir=\"ltr\" lang=\"en\">Obama has admitted that he spends his mornings watching <a href=\"https://twitter.com/espn?ref_src=twsrc%5Etfw\">@ESPN</a>. Then he plays golf, fundraises &amp; grants amnesty to illegals.</p>, <p class=\"g-body\">Trump frequently claimed that Obama <strong>did not work hard</strong> as president.</p>, <p class=\"g-body\">Trump falsely claimed that President Obama “<strong>issued a statement for Kwanzaa</strong> but failed to issue one for Christmas.”</p>, <p class=\"g-body\">He often casts heavily black American cities as <a href=\"https://thinkprogress.org/trump-and-congressional-republicans-share-a-laugh-about-murders-in-chicago-31d6efa83dae/\">dystopian war zones</a>. In a 2016 debate with Hillary Clinton, Trump said, “Our inner cities, <strong>African Americans, Hispanics are living in hell</strong> because it’s so dangerous. You walk down the street, you get shot.” Trump also said to black voters: “<strong>You’re living in poverty</strong>; your schools are no good; you have no jobs.”</p>, <p class=\"g-body\">He frequently offers <a href=\"http://www.philly.com/philly/news/politics/presidential/Trump-said-Phillys-murder-rate-is-terribly-increasing-Its-not.html\">false crime statistics</a> to <strong>exaggerate urban crime</strong>, including about Oakland, Philadelphia and Ferguson, Mo.</p>, <p dir=\"ltr\" lang=\"en\">Just out report: \"United Kingdom crime rises 13% annually amid spread of Radical Islamic terror.\" Not good, we must keep America safe!</p>, <p class=\"g-body\">He is quick to <strong>highlight crimes committed by dark-skinned people</strong>, sometimes <a href=\"http://www.politifact.com/truth-o-meter/statements/2015/nov/23/donald-trump/trump-tweet-blacks-white-homicide-victims/\">exaggerating or lying</a> about them (<a href=\"https://www.splcenter.org/hatewatch/2017/10/26/president-trump%E2%80%99s-false-claim-about-uk-crime-and-terrorism-part-pattern-lies\">such as</a> a claim about growing crime from “radical Islamic terror” in Britain). He is very slow to decry hate crimes committed by whites against dark-skinned people (<a href=\"https://www.washingtonpost.com/news/worldviews/wp/2017/03/01/trump-finally-condemned-killing-of-indian-man-as-act-of-hate-was-he-too-late/?utm_term=.ba3fc5e795e6\">such as</a> the killing of an Indian man in Kansas last year).</p>, <p class=\"g-body\">He <a href=\"https://www.politico.com/story/2017/11/22/trump-twitter-fight-black-athletes-258396\">frequently criticizes</a> prominent <strong>African-Americans for being unpatriotic</strong>, ungrateful and disrespectful.</p>, <p class=\"g-body\">He called Puerto Ricans who criticized his administration’s response to Hurricane Maria “<strong>politically motivated ingrates</strong>.”</p>, <p dir=\"ltr\" lang=\"en\">\"<a href=\"https://twitter.com/WhiteGenocideTM?ref_src=twsrc%5Etfw\">@WhiteGenocideTM</a>: <a href=\"https://twitter.com/realDonaldTrump?ref_src=twsrc%5Etfw\">@realDonaldTrump</a> Poor Jeb. I could've sworn I saw him outside Trump Tower the other day! <a href=\"https://t.co/e5uLRubqla\">https://t.co/e5uLRubqla</a>\"</p>, <p class=\"g-body\">He has <strong>retweeted white nationalists</strong> <a href=\"http://www.esquire.com/news-politics/a13974149/trump-retweet-britain-first/\">without apology</a>.</p>, <p class=\"g-body\">He called some of those who marched alongside <strong>white supremacists</strong> in Charlottesville, Va., last August “<strong>very fine people</strong>.”</p>, <p class=\"g-body\">After David Duke, <strong>the former leader of the Ku Klux Klan, endorsed him</strong>, Trump was <a href=\"https://www.washingtonpost.com/news/fact-checker/wp/2016/03/01/donald-trump-and-david-duke-for-the-record/?utm_term=.7126e49478f7\">reluctant</a> to disavow Duke even when asked directly on television.</p>, <p class=\"g-body\">Trump hired Steve Bannon as his campaign head and later White House chief strategist. Under Bannon’s leadership, the website Breitbart <a href=\"https://qz.com/836329/breitbart-headlines-show-how-president-elect-donald-trumps-new-chief-strategist-steve-bannon-sees-the-world/\">made</a> <strong>white nationalism a central theme</strong>. It featured a section, for example, on “black crime.”</p>, <p class=\"g-body\">Trump <strong>endorsed and campaigned for Roy Moore</strong>, the Alabama Senate candidate who <a href=\"https://www.vox.com/identities/2017/12/11/16761348/roy-moore-racism-sexism\">spoke positively about slavery</a> and who <a href=\"http://www.politifact.com/truth-o-meter/statements/2017/nov/09/jeff-flake/flake-roy-moore-said-muslims-shouldnt-serve-congre/\">called for</a> an African-American Muslim member of Congress not to be seated because of his religion.</p>, <p class=\"g-body\"><strong>Trump pardoned – and fulsomely praises – Joe Arpaio</strong>, the Arizona sheriff sanctioned for racially profiling Latinos and for keeping immigrants in brutal prison conditions.</p>, <p class=\"g-body\">In the 1990s, Trump <a href=\"http://www.nj.com/politics/index.ssf/2016/06/did_donald_trump_once_smear_indian_tribes_to_protect_atlantic_city_casinos.html\">took out advertisements</a> alleging that the “<strong>Mohawk Indian record of criminal activity is well documented</strong>.” At the time, he was fighting competition for his casino business.</p>, <p class=\"g-body\">In a 1993 radio interview, he suggested that Native Americans in Connecticut were faking their ancestry. “I think I might have more Indian blood than a lot of the <strong>so-called Indians that are trying to open up the reservations</strong>.”</p>, <p class=\"g-body\">In a November 2017 meeting with Navajo veterans of World War II, Trump mocked Senator Elizabeth Warren as “<strong>Pocahontas</strong>.”</p>, <p dir=\"ltr\" lang=\"en\">Trump today: \"Hillary Clinton meets in secret with international banks to plot the destruction of U.S. sovereignty.\" Fascist code for \"Jews\"</p>, <p class=\"g-body\">Trump has <strong>trafficked in anti-Semitic caricatures</strong>, including the tweeting of a six-pointed star alongside a pile of cash. He has also been reluctant to condemn anti-Semitic attacks on journalists from his supporters, and he echoed neo-Nazi conspiracy theories by saying that Hillary Clinton “meets in secret with international banks to plot the destruction of U.S. sovereignty in order to enrich these global financial powers, her special interest friends and her donors.”</p>, <p class=\"g-body\">In a White House meeting with a Korean-American intelligence analyst briefing him on Pakistan, Trump wondered aloud <strong>why she was not working on North Korea policy</strong>.</p>, <p class=\"g-body\">Trump once referred to a Hispanic Miss Universe as “<strong>Miss Housekeeping</strong>.”</p>, <p class=\"g-body\">At a June 2016 campaign rally, Trump pointed to one attendee and said: “Oh, look at <strong>my African-American over here</strong>. Look at him.”</p>, <p>Advertisement</p>]"
      ]
     },
     "execution_count": 20,
     "metadata": {},
     "output_type": "execute_result"
    }
   ],
   "source": [
    "facts[1:44]\n"
   ]
  },
  {
   "cell_type": "code",
   "execution_count": 23,
   "metadata": {
    "collapsed": true
   },
   "outputs": [],
   "source": [
    "facts = soup.find_all('g-body')"
   ]
  },
  {
   "cell_type": "code",
   "execution_count": 24,
   "metadata": {},
   "outputs": [
    {
     "data": {
      "text/plain": [
       "0"
      ]
     },
     "execution_count": 24,
     "metadata": {},
     "output_type": "execute_result"
    }
   ],
   "source": [
    "len(facts)"
   ]
  },
  {
   "cell_type": "markdown",
   "metadata": {},
   "source": [
    "OK. So this isn't working very well. I am struggling to isolate the whole < p class=\"g-body\" > but it yeilds 0 results. I think I am missing something in my command. While looking at the data more closely, however, I realized that that piece of HTML is used for more than just my facts. So I am going to find a better list to use and will try again. "
   ]
  },
  {
   "cell_type": "markdown",
   "metadata": {},
   "source": [
    "#### here! This should do it! 11 books the NYT recommends this week!\n",
    "\n",
    "Take two!"
   ]
  },
  {
   "cell_type": "code",
   "execution_count": 25,
   "metadata": {
    "collapsed": true
   },
   "outputs": [],
   "source": [
    "import requests\n",
    "k = requests.get('https://www.nytimes.com/2018/02/01/books/review/11-new-books-we-recommend-this-week.html')"
   ]
  },
  {
   "cell_type": "code",
   "execution_count": 28,
   "metadata": {},
   "outputs": [
    {
     "name": "stdout",
     "output_type": "stream",
     "text": [
      "<!DOCTYPE html>\n",
      "<!--[if (gt IE 9)|!(IE)]> <!--> <html lang=\"en\" class=\"no-js section-review format-medium tone-feature app-article page-theme-standard has-top-ad type-size-small has-large-lede\" itemid=\"https://www.nytimes.com/2018/02/01/books/review/11-new-books-we-recommend-this-week.html\" itemtype=\"http://schema.org/NewsArticle\"  itemscope xmlns:og=\"http://opengraphprotocol.org/schema/\"> <!--<![endif]-->\n",
      "<!--[if IE 9]> <html lang=\"en\" class=\"no-js ie9 lt-ie10 section-review format-medium tone-feature app-article page-theme-standard has-top-ad type-size-small has-large-lede\" xmlns:og=\"http://opengraphprotocol.org/schema/\"> <![endif]-->\n",
      "<!--[if IE 8]> <html lang=\"en\" class=\"no-js ie8 lt-ie10 lt-ie9 section-review format-medium tone-feature app-article page-theme-standard has-top-ad type-size-small has-large-lede\" xmlns:og=\"http://opengraphprotocol.org/schema/\"> <![endif]-->\n",
      "<!--[if (lt IE 8)]> <html lang=\"en\" class=\"no-js lt-ie10 lt-ie9 lt-ie8 section-review format-medium tone-feature \n"
     ]
    }
   ],
   "source": [
    "print(k.text[:1000])"
   ]
  },
  {
   "cell_type": "code",
   "execution_count": 32,
   "metadata": {
    "collapsed": true
   },
   "outputs": [],
   "source": [
    "facts = soup.find_all('strong')"
   ]
  },
  {
   "cell_type": "code",
   "execution_count": 33,
   "metadata": {},
   "outputs": [
    {
     "data": {
      "text/plain": [
       "34"
      ]
     },
     "execution_count": 33,
     "metadata": {},
     "output_type": "execute_result"
    }
   ],
   "source": [
    "len(facts)"
   ]
  },
  {
   "cell_type": "markdown",
   "metadata": {},
   "source": [
    "Ok. This one was my fault. I knew strong wasn't going to yeild. I need to figure out how to isolate the 11. "
   ]
  },
  {
   "cell_type": "code",
   "execution_count": 36,
   "metadata": {
    "collapsed": true
   },
   "outputs": [],
   "source": [
    "facts = soup.find_all('a href')"
   ]
  },
  {
   "cell_type": "code",
   "execution_count": 37,
   "metadata": {},
   "outputs": [
    {
     "data": {
      "text/plain": [
       "0"
      ]
     },
     "execution_count": 37,
     "metadata": {},
     "output_type": "execute_result"
    }
   ],
   "source": [
    "len(facts)"
   ]
  },
  {
   "cell_type": "markdown",
   "metadata": {},
   "source": [
    "THIS ISNT WORKING WTF"
   ]
  },
  {
   "cell_type": "code",
   "execution_count": 45,
   "metadata": {
    "collapsed": true
   },
   "outputs": [],
   "source": [
    "facts = soup.find_all('a_href')"
   ]
  },
  {
   "cell_type": "code",
   "execution_count": 46,
   "metadata": {},
   "outputs": [
    {
     "data": {
      "text/plain": [
       "0"
      ]
     },
     "execution_count": 46,
     "metadata": {},
     "output_type": "execute_result"
    }
   ],
   "source": [
    "len(facts)"
   ]
  },
  {
   "cell_type": "code",
   "execution_count": 47,
   "metadata": {
    "collapsed": true
   },
   "outputs": [],
   "source": [
    "facts = soup.find_all('a', attrs={'a href'})"
   ]
  },
  {
   "cell_type": "code",
   "execution_count": 48,
   "metadata": {},
   "outputs": [
    {
     "data": {
      "text/plain": [
       "0"
      ]
     },
     "execution_count": 48,
     "metadata": {},
     "output_type": "execute_result"
    }
   ],
   "source": [
    "len(facts)"
   ]
  },
  {
   "cell_type": "code",
   "execution_count": 57,
   "metadata": {},
   "outputs": [],
   "source": [
    "facts = soup.findAll('a', attrs={'href': '/href'})"
   ]
  },
  {
   "cell_type": "code",
   "execution_count": 58,
   "metadata": {},
   "outputs": [
    {
     "data": {
      "text/plain": [
       "0"
      ]
     },
     "execution_count": 58,
     "metadata": {},
     "output_type": "execute_result"
    }
   ],
   "source": [
    "len(facts)"
   ]
  },
  {
   "cell_type": "code",
   "execution_count": 59,
   "metadata": {
    "collapsed": true
   },
   "outputs": [],
   "source": [
    "import re"
   ]
  },
  {
   "cell_type": "code",
   "execution_count": 63,
   "metadata": {},
   "outputs": [
    {
     "data": {
      "text/plain": [
       "[<a class=\"action-link\" href=\"http://www.nytimes.com/content/help/site/ie9-support.html\">LEARN MORE »</a>,\n",
       " <a href=\"http://www.nytimes.com/\" id=\"branding-heading-link\">\n",
       " <span class=\"visually-hidden\">The New York Times</span>\n",
       " </a>,\n",
       " <a href=\"http://www.nytimes.com/by/david-leonhardt\" title=\"More Articles by David Leonhardt\"><span class=\"byline-author\" data-byline-name=\"DAVID LEONHARDT\" itemprop=\"name\">DAVID LEONHARDT</span></a>,\n",
       " <a href=\"http://time.com/4139476/donald-trump-shutdown-muslim-immigration/\">called for</a>,\n",
       " <a href=\"http://www.politifact.com/wisconsin/article/2016/jun/08/donald-trumps-racial-comments-about-judge-trump-un/\">because of </a>,\n",
       " <a href=\"http://www.politifact.com/wisconsin/article/2016/jun/08/donald-trumps-racial-comments-about-judge-trump-un/\">the judge’s Mexican heritage</a>,\n",
       " <a href=\"http://www.philly.com/philly/news/politics/presidential/Trump-said-Phillys-murder-rate-is-terribly-increasing-Its-not.html\">false crime statistics</a>,\n",
       " <a href=\"http://www.politifact.com/truth-o-meter/statements/2015/nov/23/donald-trump/trump-tweet-blacks-white-homicide-victims/\">exaggerating or lying</a>,\n",
       " <a href=\"http://www.esquire.com/news-politics/a13974149/trump-retweet-britain-first/\">without apology</a>,\n",
       " <a href=\"http://www.politifact.com/truth-o-meter/statements/2017/nov/09/jeff-flake/flake-roy-moore-said-muslims-shouldnt-serve-congre/\">called for</a>,\n",
       " <a href=\"http://www.nj.com/politics/index.ssf/2016/06/did_donald_trump_once_smear_indian_tribes_to_protect_atlantic_city_casinos.html\">took out advertisements</a>,\n",
       " <a href=\"http://www.nytimes.com/content/help/rights/copyright/copyright-notice.html\" itemprop=\"copyrightNotice\">\n",
       "             © <span itemprop=\"copyrightYear\">2018</span><span itemid=\"http://www.nytimes.com\" itemprop=\"copyrightHolder provider sourceOrganization\" itemscope=\"\" itemtype=\"http://schema.org/Organization\"><span itemprop=\"name\"> The New York Times Company</span><meta content=\"NYSE NYT\" itemprop=\"tickerSymbol\"/></span>\n",
       " </a>,\n",
       " <a href=\"http://www.nytimes.com\">Home</a>,\n",
       " <a href=\"http://www.nytimes.com/ref/membercenter/help/infoservdirectory.html\">Contact Us</a>,\n",
       " <a href=\"http://www.nytco.com/careers\">Work With Us</a>,\n",
       " <a href=\"http://nytmediakit.com/\">Advertise</a>,\n",
       " <a href=\"http://www.nytimes.com/content/help/rights/privacy/policy/privacy-policy.html#pp\">Your Ad Choices</a>,\n",
       " <a href=\"http://www.nytimes.com/privacy\">Privacy</a>,\n",
       " <a href=\"http://www.nytimes.com/ref/membercenter/help/agree.html\" itemprop=\"usageTerms\">Terms of Service</a>,\n",
       " <a href=\"http://www.nytimes.com/content/help/rights/sale/terms-of-sale.html\">Terms of Sale</a>,\n",
       " <a href=\"http://spiderbites.nytimes.com\">Site Map</a>,\n",
       " <a href=\"http://www.nytimes.com/membercenter/sitehelp.html\">Help</a>,\n",
       " <a href=\"http://www.nytimes.com/subscriptions/Multiproduct/lp5558.html?campaignId=37WXW\">Subscriptions</a>]"
      ]
     },
     "execution_count": 63,
     "metadata": {},
     "output_type": "execute_result"
    }
   ],
   "source": [
    "soup.findAll('a', attrs={'href': re.compile(\"^http://\")})"
   ]
  },
  {
   "cell_type": "markdown",
   "metadata": {},
   "source": [
    "**OK I DID SOMETHING I GOT ALL THE LINKS. NOW I JUST NEED THE BOOKS AND THATS IT**\n",
    "\n",
    "**JK. IT IS LOOKING AT THE WRONG ARTICLE. I WILL START A NEW NOTEBOOK WITH JUST THE BOOKS SO IT DOESN'T GET CONFUSED.**\n"
   ]
  },
  {
   "cell_type": "code",
   "execution_count": null,
   "metadata": {
    "collapsed": true
   },
   "outputs": [],
   "source": []
  }
 ],
 "metadata": {
  "kernelspec": {
   "display_name": "Python 3",
   "language": "python",
   "name": "python3"
  },
  "language_info": {
   "codemirror_mode": {
    "name": "ipython",
    "version": 3
   },
   "file_extension": ".py",
   "mimetype": "text/x-python",
   "name": "python",
   "nbconvert_exporter": "python",
   "pygments_lexer": "ipython3",
   "version": "3.6.3"
  }
 },
 "nbformat": 4,
 "nbformat_minor": 2
}
